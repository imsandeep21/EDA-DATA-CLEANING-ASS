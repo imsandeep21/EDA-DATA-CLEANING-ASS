{
 "cells": [
  {
   "cell_type": "code",
   "execution_count": 2,
   "id": "c534b76d-d12b-4fec-b8ee-e7fce078b62c",
   "metadata": {},
   "outputs": [],
   "source": [
    "import numpy as np\n",
    "import pandas as pd\n",
    "import matplotlib.pyplot as plt\n",
    "import seaborn as sns"
   ]
  },
  {
   "cell_type": "code",
   "execution_count": 6,
   "id": "dab7856a-6579-4f9f-8833-35c9452e22c7",
   "metadata": {},
   "outputs": [
    {
     "name": "stdout",
     "output_type": "stream",
     "text": [
      "     show_id     type                  title         director  \\\n",
      "0         s1    Movie   Dick Johnson Is Dead  Kirsten Johnson   \n",
      "1         s2  TV Show          Blood & Water              NaN   \n",
      "2         s3  TV Show              Ganglands  Julien Leclercq   \n",
      "3         s4  TV Show  Jailbirds New Orleans              NaN   \n",
      "4         s5  TV Show           Kota Factory              NaN   \n",
      "...      ...      ...                    ...              ...   \n",
      "8802   s8803    Movie                 Zodiac    David Fincher   \n",
      "8803   s8804  TV Show            Zombie Dumb              NaN   \n",
      "8804   s8805    Movie             Zombieland  Ruben Fleischer   \n",
      "8805   s8806    Movie                   Zoom     Peter Hewitt   \n",
      "8806   s8807    Movie                 Zubaan      Mozez Singh   \n",
      "\n",
      "                                                   cast        country  \\\n",
      "0                                                   NaN  United States   \n",
      "1     Ama Qamata, Khosi Ngema, Gail Mabalane, Thaban...   South Africa   \n",
      "2     Sami Bouajila, Tracy Gotoas, Samuel Jouy, Nabi...            NaN   \n",
      "3                                                   NaN            NaN   \n",
      "4     Mayur More, Jitendra Kumar, Ranjan Raj, Alam K...          India   \n",
      "...                                                 ...            ...   \n",
      "8802  Mark Ruffalo, Jake Gyllenhaal, Robert Downey J...  United States   \n",
      "8803                                                NaN            NaN   \n",
      "8804  Jesse Eisenberg, Woody Harrelson, Emma Stone, ...  United States   \n",
      "8805  Tim Allen, Courteney Cox, Chevy Chase, Kate Ma...  United States   \n",
      "8806  Vicky Kaushal, Sarah-Jane Dias, Raaghav Chanan...          India   \n",
      "\n",
      "              date_added  release_year rating   duration  \\\n",
      "0     September 25, 2021          2020  PG-13     90 min   \n",
      "1     September 24, 2021          2021  TV-MA  2 Seasons   \n",
      "2     September 24, 2021          2021  TV-MA   1 Season   \n",
      "3     September 24, 2021          2021  TV-MA   1 Season   \n",
      "4     September 24, 2021          2021  TV-MA  2 Seasons   \n",
      "...                  ...           ...    ...        ...   \n",
      "8802   November 20, 2019          2007      R    158 min   \n",
      "8803        July 1, 2019          2018  TV-Y7  2 Seasons   \n",
      "8804    November 1, 2019          2009      R     88 min   \n",
      "8805    January 11, 2020          2006     PG     88 min   \n",
      "8806       March 2, 2019          2015  TV-14    111 min   \n",
      "\n",
      "                                              listed_in  \\\n",
      "0                                         Documentaries   \n",
      "1       International TV Shows, TV Dramas, TV Mysteries   \n",
      "2     Crime TV Shows, International TV Shows, TV Act...   \n",
      "3                                Docuseries, Reality TV   \n",
      "4     International TV Shows, Romantic TV Shows, TV ...   \n",
      "...                                                 ...   \n",
      "8802                     Cult Movies, Dramas, Thrillers   \n",
      "8803             Kids' TV, Korean TV Shows, TV Comedies   \n",
      "8804                            Comedies, Horror Movies   \n",
      "8805                 Children & Family Movies, Comedies   \n",
      "8806     Dramas, International Movies, Music & Musicals   \n",
      "\n",
      "                                            description  \n",
      "0     As her father nears the end of his life, filmm...  \n",
      "1     After crossing paths at a party, a Cape Town t...  \n",
      "2     To protect his family from a powerful drug lor...  \n",
      "3     Feuds, flirtations and toilet talk go down amo...  \n",
      "4     In a city of coaching centers known to train I...  \n",
      "...                                                 ...  \n",
      "8802  A political cartoonist, a crime reporter and a...  \n",
      "8803  While living alone in a spooky town, a young g...  \n",
      "8804  Looking to survive in a world taken over by zo...  \n",
      "8805  Dragged from civilian life, a former superhero...  \n",
      "8806  A scrappy but poor boy worms his way into a ty...  \n",
      "\n",
      "[8807 rows x 12 columns]\n"
     ]
    }
   ],
   "source": [
    "df = pd.read_csv(\"C:/Users/Dell/Downloads/netflix_titles_2021.csv\")\n",
    "print(df)"
   ]
  },
  {
   "cell_type": "markdown",
   "id": "695dfe22-eb79-47ce-b413-7eff26261742",
   "metadata": {},
   "source": [
    "# 1. Understanding the Dataset."
   ]
  },
  {
   "cell_type": "code",
   "execution_count": 15,
   "id": "f5b50adb-31c9-415c-b84f-61bac58bbff0",
   "metadata": {},
   "outputs": [
    {
     "data": {
      "text/html": [
       "<div>\n",
       "<style scoped>\n",
       "    .dataframe tbody tr th:only-of-type {\n",
       "        vertical-align: middle;\n",
       "    }\n",
       "\n",
       "    .dataframe tbody tr th {\n",
       "        vertical-align: top;\n",
       "    }\n",
       "\n",
       "    .dataframe thead th {\n",
       "        text-align: right;\n",
       "    }\n",
       "</style>\n",
       "<table border=\"1\" class=\"dataframe\">\n",
       "  <thead>\n",
       "    <tr style=\"text-align: right;\">\n",
       "      <th></th>\n",
       "      <th>show_id</th>\n",
       "      <th>type</th>\n",
       "      <th>title</th>\n",
       "      <th>director</th>\n",
       "      <th>cast</th>\n",
       "      <th>country</th>\n",
       "      <th>date_added</th>\n",
       "      <th>release_year</th>\n",
       "      <th>rating</th>\n",
       "      <th>duration</th>\n",
       "      <th>listed_in</th>\n",
       "      <th>description</th>\n",
       "    </tr>\n",
       "  </thead>\n",
       "  <tbody>\n",
       "    <tr>\n",
       "      <th>0</th>\n",
       "      <td>s1</td>\n",
       "      <td>Movie</td>\n",
       "      <td>Dick Johnson Is Dead</td>\n",
       "      <td>Kirsten Johnson</td>\n",
       "      <td>NaN</td>\n",
       "      <td>United States</td>\n",
       "      <td>September 25, 2021</td>\n",
       "      <td>2020</td>\n",
       "      <td>PG-13</td>\n",
       "      <td>90 min</td>\n",
       "      <td>Documentaries</td>\n",
       "      <td>As her father nears the end of his life, filmm...</td>\n",
       "    </tr>\n",
       "    <tr>\n",
       "      <th>1</th>\n",
       "      <td>s2</td>\n",
       "      <td>TV Show</td>\n",
       "      <td>Blood &amp; Water</td>\n",
       "      <td>NaN</td>\n",
       "      <td>Ama Qamata, Khosi Ngema, Gail Mabalane, Thaban...</td>\n",
       "      <td>South Africa</td>\n",
       "      <td>September 24, 2021</td>\n",
       "      <td>2021</td>\n",
       "      <td>TV-MA</td>\n",
       "      <td>2 Seasons</td>\n",
       "      <td>International TV Shows, TV Dramas, TV Mysteries</td>\n",
       "      <td>After crossing paths at a party, a Cape Town t...</td>\n",
       "    </tr>\n",
       "    <tr>\n",
       "      <th>2</th>\n",
       "      <td>s3</td>\n",
       "      <td>TV Show</td>\n",
       "      <td>Ganglands</td>\n",
       "      <td>Julien Leclercq</td>\n",
       "      <td>Sami Bouajila, Tracy Gotoas, Samuel Jouy, Nabi...</td>\n",
       "      <td>NaN</td>\n",
       "      <td>September 24, 2021</td>\n",
       "      <td>2021</td>\n",
       "      <td>TV-MA</td>\n",
       "      <td>1 Season</td>\n",
       "      <td>Crime TV Shows, International TV Shows, TV Act...</td>\n",
       "      <td>To protect his family from a powerful drug lor...</td>\n",
       "    </tr>\n",
       "    <tr>\n",
       "      <th>3</th>\n",
       "      <td>s4</td>\n",
       "      <td>TV Show</td>\n",
       "      <td>Jailbirds New Orleans</td>\n",
       "      <td>NaN</td>\n",
       "      <td>NaN</td>\n",
       "      <td>NaN</td>\n",
       "      <td>September 24, 2021</td>\n",
       "      <td>2021</td>\n",
       "      <td>TV-MA</td>\n",
       "      <td>1 Season</td>\n",
       "      <td>Docuseries, Reality TV</td>\n",
       "      <td>Feuds, flirtations and toilet talk go down amo...</td>\n",
       "    </tr>\n",
       "    <tr>\n",
       "      <th>4</th>\n",
       "      <td>s5</td>\n",
       "      <td>TV Show</td>\n",
       "      <td>Kota Factory</td>\n",
       "      <td>NaN</td>\n",
       "      <td>Mayur More, Jitendra Kumar, Ranjan Raj, Alam K...</td>\n",
       "      <td>India</td>\n",
       "      <td>September 24, 2021</td>\n",
       "      <td>2021</td>\n",
       "      <td>TV-MA</td>\n",
       "      <td>2 Seasons</td>\n",
       "      <td>International TV Shows, Romantic TV Shows, TV ...</td>\n",
       "      <td>In a city of coaching centers known to train I...</td>\n",
       "    </tr>\n",
       "  </tbody>\n",
       "</table>\n",
       "</div>"
      ],
      "text/plain": [
       "  show_id     type                  title         director  \\\n",
       "0      s1    Movie   Dick Johnson Is Dead  Kirsten Johnson   \n",
       "1      s2  TV Show          Blood & Water              NaN   \n",
       "2      s3  TV Show              Ganglands  Julien Leclercq   \n",
       "3      s4  TV Show  Jailbirds New Orleans              NaN   \n",
       "4      s5  TV Show           Kota Factory              NaN   \n",
       "\n",
       "                                                cast        country  \\\n",
       "0                                                NaN  United States   \n",
       "1  Ama Qamata, Khosi Ngema, Gail Mabalane, Thaban...   South Africa   \n",
       "2  Sami Bouajila, Tracy Gotoas, Samuel Jouy, Nabi...            NaN   \n",
       "3                                                NaN            NaN   \n",
       "4  Mayur More, Jitendra Kumar, Ranjan Raj, Alam K...          India   \n",
       "\n",
       "           date_added  release_year rating   duration  \\\n",
       "0  September 25, 2021          2020  PG-13     90 min   \n",
       "1  September 24, 2021          2021  TV-MA  2 Seasons   \n",
       "2  September 24, 2021          2021  TV-MA   1 Season   \n",
       "3  September 24, 2021          2021  TV-MA   1 Season   \n",
       "4  September 24, 2021          2021  TV-MA  2 Seasons   \n",
       "\n",
       "                                           listed_in  \\\n",
       "0                                      Documentaries   \n",
       "1    International TV Shows, TV Dramas, TV Mysteries   \n",
       "2  Crime TV Shows, International TV Shows, TV Act...   \n",
       "3                             Docuseries, Reality TV   \n",
       "4  International TV Shows, Romantic TV Shows, TV ...   \n",
       "\n",
       "                                         description  \n",
       "0  As her father nears the end of his life, filmm...  \n",
       "1  After crossing paths at a party, a Cape Town t...  \n",
       "2  To protect his family from a powerful drug lor...  \n",
       "3  Feuds, flirtations and toilet talk go down amo...  \n",
       "4  In a city of coaching centers known to train I...  "
      ]
     },
     "execution_count": 15,
     "metadata": {},
     "output_type": "execute_result"
    }
   ],
   "source": [
    "df.head()"
   ]
  },
  {
   "cell_type": "code",
   "execution_count": 17,
   "id": "e008ab9d-4787-4286-8f8e-2b2ad784833a",
   "metadata": {},
   "outputs": [
    {
     "data": {
      "text/html": [
       "<div>\n",
       "<style scoped>\n",
       "    .dataframe tbody tr th:only-of-type {\n",
       "        vertical-align: middle;\n",
       "    }\n",
       "\n",
       "    .dataframe tbody tr th {\n",
       "        vertical-align: top;\n",
       "    }\n",
       "\n",
       "    .dataframe thead th {\n",
       "        text-align: right;\n",
       "    }\n",
       "</style>\n",
       "<table border=\"1\" class=\"dataframe\">\n",
       "  <thead>\n",
       "    <tr style=\"text-align: right;\">\n",
       "      <th></th>\n",
       "      <th>show_id</th>\n",
       "      <th>type</th>\n",
       "      <th>title</th>\n",
       "      <th>director</th>\n",
       "      <th>cast</th>\n",
       "      <th>country</th>\n",
       "      <th>date_added</th>\n",
       "      <th>release_year</th>\n",
       "      <th>rating</th>\n",
       "      <th>duration</th>\n",
       "      <th>listed_in</th>\n",
       "      <th>description</th>\n",
       "    </tr>\n",
       "  </thead>\n",
       "  <tbody>\n",
       "    <tr>\n",
       "      <th>8802</th>\n",
       "      <td>s8803</td>\n",
       "      <td>Movie</td>\n",
       "      <td>Zodiac</td>\n",
       "      <td>David Fincher</td>\n",
       "      <td>Mark Ruffalo, Jake Gyllenhaal, Robert Downey J...</td>\n",
       "      <td>United States</td>\n",
       "      <td>November 20, 2019</td>\n",
       "      <td>2007</td>\n",
       "      <td>R</td>\n",
       "      <td>158 min</td>\n",
       "      <td>Cult Movies, Dramas, Thrillers</td>\n",
       "      <td>A political cartoonist, a crime reporter and a...</td>\n",
       "    </tr>\n",
       "    <tr>\n",
       "      <th>8803</th>\n",
       "      <td>s8804</td>\n",
       "      <td>TV Show</td>\n",
       "      <td>Zombie Dumb</td>\n",
       "      <td>NaN</td>\n",
       "      <td>NaN</td>\n",
       "      <td>NaN</td>\n",
       "      <td>July 1, 2019</td>\n",
       "      <td>2018</td>\n",
       "      <td>TV-Y7</td>\n",
       "      <td>2 Seasons</td>\n",
       "      <td>Kids' TV, Korean TV Shows, TV Comedies</td>\n",
       "      <td>While living alone in a spooky town, a young g...</td>\n",
       "    </tr>\n",
       "    <tr>\n",
       "      <th>8804</th>\n",
       "      <td>s8805</td>\n",
       "      <td>Movie</td>\n",
       "      <td>Zombieland</td>\n",
       "      <td>Ruben Fleischer</td>\n",
       "      <td>Jesse Eisenberg, Woody Harrelson, Emma Stone, ...</td>\n",
       "      <td>United States</td>\n",
       "      <td>November 1, 2019</td>\n",
       "      <td>2009</td>\n",
       "      <td>R</td>\n",
       "      <td>88 min</td>\n",
       "      <td>Comedies, Horror Movies</td>\n",
       "      <td>Looking to survive in a world taken over by zo...</td>\n",
       "    </tr>\n",
       "    <tr>\n",
       "      <th>8805</th>\n",
       "      <td>s8806</td>\n",
       "      <td>Movie</td>\n",
       "      <td>Zoom</td>\n",
       "      <td>Peter Hewitt</td>\n",
       "      <td>Tim Allen, Courteney Cox, Chevy Chase, Kate Ma...</td>\n",
       "      <td>United States</td>\n",
       "      <td>January 11, 2020</td>\n",
       "      <td>2006</td>\n",
       "      <td>PG</td>\n",
       "      <td>88 min</td>\n",
       "      <td>Children &amp; Family Movies, Comedies</td>\n",
       "      <td>Dragged from civilian life, a former superhero...</td>\n",
       "    </tr>\n",
       "    <tr>\n",
       "      <th>8806</th>\n",
       "      <td>s8807</td>\n",
       "      <td>Movie</td>\n",
       "      <td>Zubaan</td>\n",
       "      <td>Mozez Singh</td>\n",
       "      <td>Vicky Kaushal, Sarah-Jane Dias, Raaghav Chanan...</td>\n",
       "      <td>India</td>\n",
       "      <td>March 2, 2019</td>\n",
       "      <td>2015</td>\n",
       "      <td>TV-14</td>\n",
       "      <td>111 min</td>\n",
       "      <td>Dramas, International Movies, Music &amp; Musicals</td>\n",
       "      <td>A scrappy but poor boy worms his way into a ty...</td>\n",
       "    </tr>\n",
       "  </tbody>\n",
       "</table>\n",
       "</div>"
      ],
      "text/plain": [
       "     show_id     type        title         director  \\\n",
       "8802   s8803    Movie       Zodiac    David Fincher   \n",
       "8803   s8804  TV Show  Zombie Dumb              NaN   \n",
       "8804   s8805    Movie   Zombieland  Ruben Fleischer   \n",
       "8805   s8806    Movie         Zoom     Peter Hewitt   \n",
       "8806   s8807    Movie       Zubaan      Mozez Singh   \n",
       "\n",
       "                                                   cast        country  \\\n",
       "8802  Mark Ruffalo, Jake Gyllenhaal, Robert Downey J...  United States   \n",
       "8803                                                NaN            NaN   \n",
       "8804  Jesse Eisenberg, Woody Harrelson, Emma Stone, ...  United States   \n",
       "8805  Tim Allen, Courteney Cox, Chevy Chase, Kate Ma...  United States   \n",
       "8806  Vicky Kaushal, Sarah-Jane Dias, Raaghav Chanan...          India   \n",
       "\n",
       "             date_added  release_year rating   duration  \\\n",
       "8802  November 20, 2019          2007      R    158 min   \n",
       "8803       July 1, 2019          2018  TV-Y7  2 Seasons   \n",
       "8804   November 1, 2019          2009      R     88 min   \n",
       "8805   January 11, 2020          2006     PG     88 min   \n",
       "8806      March 2, 2019          2015  TV-14    111 min   \n",
       "\n",
       "                                           listed_in  \\\n",
       "8802                  Cult Movies, Dramas, Thrillers   \n",
       "8803          Kids' TV, Korean TV Shows, TV Comedies   \n",
       "8804                         Comedies, Horror Movies   \n",
       "8805              Children & Family Movies, Comedies   \n",
       "8806  Dramas, International Movies, Music & Musicals   \n",
       "\n",
       "                                            description  \n",
       "8802  A political cartoonist, a crime reporter and a...  \n",
       "8803  While living alone in a spooky town, a young g...  \n",
       "8804  Looking to survive in a world taken over by zo...  \n",
       "8805  Dragged from civilian life, a former superhero...  \n",
       "8806  A scrappy but poor boy worms his way into a ty...  "
      ]
     },
     "execution_count": 17,
     "metadata": {},
     "output_type": "execute_result"
    }
   ],
   "source": [
    "df.tail()"
   ]
  },
  {
   "cell_type": "code",
   "execution_count": 21,
   "id": "aaf5cd98-3154-48cf-8dcf-95458338f12a",
   "metadata": {},
   "outputs": [
    {
     "data": {
      "text/html": [
       "<div>\n",
       "<style scoped>\n",
       "    .dataframe tbody tr th:only-of-type {\n",
       "        vertical-align: middle;\n",
       "    }\n",
       "\n",
       "    .dataframe tbody tr th {\n",
       "        vertical-align: top;\n",
       "    }\n",
       "\n",
       "    .dataframe thead th {\n",
       "        text-align: right;\n",
       "    }\n",
       "</style>\n",
       "<table border=\"1\" class=\"dataframe\">\n",
       "  <thead>\n",
       "    <tr style=\"text-align: right;\">\n",
       "      <th></th>\n",
       "      <th>show_id</th>\n",
       "      <th>type</th>\n",
       "      <th>title</th>\n",
       "      <th>director</th>\n",
       "      <th>cast</th>\n",
       "      <th>country</th>\n",
       "      <th>date_added</th>\n",
       "      <th>release_year</th>\n",
       "      <th>rating</th>\n",
       "      <th>duration</th>\n",
       "      <th>listed_in</th>\n",
       "      <th>description</th>\n",
       "    </tr>\n",
       "  </thead>\n",
       "  <tbody>\n",
       "    <tr>\n",
       "      <th>756</th>\n",
       "      <td>s757</td>\n",
       "      <td>Movie</td>\n",
       "      <td>Small Chops</td>\n",
       "      <td>Robert Peters</td>\n",
       "      <td>Chika Ike, Max Cavenham, Nkem Owoh, Nse Ikpe-E...</td>\n",
       "      <td>Nigeria</td>\n",
       "      <td>June 5, 2021</td>\n",
       "      <td>2020</td>\n",
       "      <td>TV-MA</td>\n",
       "      <td>98 min</td>\n",
       "      <td>Dramas, International Movies, Romantic Movies</td>\n",
       "      <td>When a business mogul hires an exotic dancer f...</td>\n",
       "    </tr>\n",
       "    <tr>\n",
       "      <th>7692</th>\n",
       "      <td>s7693</td>\n",
       "      <td>Movie</td>\n",
       "      <td>Pablo Escobar: Angel or Demon?</td>\n",
       "      <td>Jorge Granier</td>\n",
       "      <td>NaN</td>\n",
       "      <td>Venezuela, Colombia</td>\n",
       "      <td>March 23, 2018</td>\n",
       "      <td>2007</td>\n",
       "      <td>NR</td>\n",
       "      <td>82 min</td>\n",
       "      <td>Documentaries, International Movies</td>\n",
       "      <td>This documentary traces the steps of druglord ...</td>\n",
       "    </tr>\n",
       "    <tr>\n",
       "      <th>1037</th>\n",
       "      <td>s1038</td>\n",
       "      <td>Movie</td>\n",
       "      <td>Tuesdays &amp; Fridays</td>\n",
       "      <td>Taranveer Singh</td>\n",
       "      <td>Anmol Thakeria Dhillon, Jhataleka, Niki Walia,...</td>\n",
       "      <td>India</td>\n",
       "      <td>April 16, 2021</td>\n",
       "      <td>2021</td>\n",
       "      <td>TV-14</td>\n",
       "      <td>106 min</td>\n",
       "      <td>Comedies, Dramas, International Movies</td>\n",
       "      <td>To avoid the burden of commitment, a young law...</td>\n",
       "    </tr>\n",
       "    <tr>\n",
       "      <th>6524</th>\n",
       "      <td>s6525</td>\n",
       "      <td>TV Show</td>\n",
       "      <td>Conan Without Borders</td>\n",
       "      <td>NaN</td>\n",
       "      <td>NaN</td>\n",
       "      <td>United States</td>\n",
       "      <td>December 31, 2018</td>\n",
       "      <td>2018</td>\n",
       "      <td>TV-14</td>\n",
       "      <td>1 Season</td>\n",
       "      <td>Docuseries, TV Comedies</td>\n",
       "      <td>Late-night talk show host Conan O'Brien hits t...</td>\n",
       "    </tr>\n",
       "    <tr>\n",
       "      <th>6412</th>\n",
       "      <td>s6413</td>\n",
       "      <td>Movie</td>\n",
       "      <td>Camp X-Ray</td>\n",
       "      <td>Peter Sattler</td>\n",
       "      <td>Kristen Stewart, Peyman Moaadi, John Carroll L...</td>\n",
       "      <td>United States</td>\n",
       "      <td>January 14, 2017</td>\n",
       "      <td>2014</td>\n",
       "      <td>R</td>\n",
       "      <td>117 min</td>\n",
       "      <td>Dramas, Independent Movies</td>\n",
       "      <td>Fresh Army recruit Amy Cole is assigned to Gua...</td>\n",
       "    </tr>\n",
       "    <tr>\n",
       "      <th>7192</th>\n",
       "      <td>s7193</td>\n",
       "      <td>Movie</td>\n",
       "      <td>Kickboxer: Vengeance</td>\n",
       "      <td>John Stockwell</td>\n",
       "      <td>Alain Moussi, Jean-Claude Van Damme, Dave Baut...</td>\n",
       "      <td>United States</td>\n",
       "      <td>December 8, 2016</td>\n",
       "      <td>2016</td>\n",
       "      <td>TV-MA</td>\n",
       "      <td>90 min</td>\n",
       "      <td>Action &amp; Adventure</td>\n",
       "      <td>After a skilled fighter falls in the ring, his...</td>\n",
       "    </tr>\n",
       "    <tr>\n",
       "      <th>8470</th>\n",
       "      <td>s8471</td>\n",
       "      <td>Movie</td>\n",
       "      <td>The Push</td>\n",
       "      <td>Grant Korgan, Brian Niles</td>\n",
       "      <td>Grant Korgan</td>\n",
       "      <td>United States</td>\n",
       "      <td>June 7, 2019</td>\n",
       "      <td>2018</td>\n",
       "      <td>TV-MA</td>\n",
       "      <td>90 min</td>\n",
       "      <td>Documentaries, Sports Movies</td>\n",
       "      <td>After a snowmobile accident paralyzed him, Gra...</td>\n",
       "    </tr>\n",
       "    <tr>\n",
       "      <th>1685</th>\n",
       "      <td>s1686</td>\n",
       "      <td>Movie</td>\n",
       "      <td>Ainu Mosir</td>\n",
       "      <td>Takeshi Fukunaga</td>\n",
       "      <td>Kanto Shimokura, Debo Akibe, Emi Shimokura, To...</td>\n",
       "      <td>United States, Japan</td>\n",
       "      <td>November 17, 2020</td>\n",
       "      <td>2020</td>\n",
       "      <td>TV-PG</td>\n",
       "      <td>84 min</td>\n",
       "      <td>Dramas, International Movies</td>\n",
       "      <td>A sensitive Ainu teen searches for a spiritual...</td>\n",
       "    </tr>\n",
       "    <tr>\n",
       "      <th>3321</th>\n",
       "      <td>s3322</td>\n",
       "      <td>Movie</td>\n",
       "      <td>LEGENDS OF THE HIDDEN TEMPLE</td>\n",
       "      <td>Joe Menendez</td>\n",
       "      <td>Isabela Moner, Jet Jurgensmeyer, Colin Critchl...</td>\n",
       "      <td>United States</td>\n",
       "      <td>November 2, 2019</td>\n",
       "      <td>2016</td>\n",
       "      <td>TV-PG</td>\n",
       "      <td>68 min</td>\n",
       "      <td>Children &amp; Family Movies</td>\n",
       "      <td>A trio of siblings gets trapped in a secret te...</td>\n",
       "    </tr>\n",
       "    <tr>\n",
       "      <th>6379</th>\n",
       "      <td>s6380</td>\n",
       "      <td>Movie</td>\n",
       "      <td>Brooklyn's Finest</td>\n",
       "      <td>Antoine Fuqua</td>\n",
       "      <td>Richard Gere, Don Cheadle, Ethan Hawke, Wesley...</td>\n",
       "      <td>United States</td>\n",
       "      <td>October 1, 2018</td>\n",
       "      <td>2009</td>\n",
       "      <td>R</td>\n",
       "      <td>133 min</td>\n",
       "      <td>Dramas, Thrillers</td>\n",
       "      <td>Three cops find themselves hurtling toward the...</td>\n",
       "    </tr>\n",
       "  </tbody>\n",
       "</table>\n",
       "</div>"
      ],
      "text/plain": [
       "     show_id     type                           title  \\\n",
       "756     s757    Movie                     Small Chops   \n",
       "7692   s7693    Movie  Pablo Escobar: Angel or Demon?   \n",
       "1037   s1038    Movie              Tuesdays & Fridays   \n",
       "6524   s6525  TV Show           Conan Without Borders   \n",
       "6412   s6413    Movie                      Camp X-Ray   \n",
       "7192   s7193    Movie            Kickboxer: Vengeance   \n",
       "8470   s8471    Movie                        The Push   \n",
       "1685   s1686    Movie                      Ainu Mosir   \n",
       "3321   s3322    Movie    LEGENDS OF THE HIDDEN TEMPLE   \n",
       "6379   s6380    Movie               Brooklyn's Finest   \n",
       "\n",
       "                       director  \\\n",
       "756               Robert Peters   \n",
       "7692              Jorge Granier   \n",
       "1037            Taranveer Singh   \n",
       "6524                        NaN   \n",
       "6412              Peter Sattler   \n",
       "7192             John Stockwell   \n",
       "8470  Grant Korgan, Brian Niles   \n",
       "1685           Takeshi Fukunaga   \n",
       "3321               Joe Menendez   \n",
       "6379              Antoine Fuqua   \n",
       "\n",
       "                                                   cast               country  \\\n",
       "756   Chika Ike, Max Cavenham, Nkem Owoh, Nse Ikpe-E...               Nigeria   \n",
       "7692                                                NaN   Venezuela, Colombia   \n",
       "1037  Anmol Thakeria Dhillon, Jhataleka, Niki Walia,...                 India   \n",
       "6524                                                NaN         United States   \n",
       "6412  Kristen Stewart, Peyman Moaadi, John Carroll L...         United States   \n",
       "7192  Alain Moussi, Jean-Claude Van Damme, Dave Baut...         United States   \n",
       "8470                                       Grant Korgan         United States   \n",
       "1685  Kanto Shimokura, Debo Akibe, Emi Shimokura, To...  United States, Japan   \n",
       "3321  Isabela Moner, Jet Jurgensmeyer, Colin Critchl...         United States   \n",
       "6379  Richard Gere, Don Cheadle, Ethan Hawke, Wesley...         United States   \n",
       "\n",
       "             date_added  release_year rating  duration  \\\n",
       "756        June 5, 2021          2020  TV-MA    98 min   \n",
       "7692     March 23, 2018          2007     NR    82 min   \n",
       "1037     April 16, 2021          2021  TV-14   106 min   \n",
       "6524  December 31, 2018          2018  TV-14  1 Season   \n",
       "6412   January 14, 2017          2014      R   117 min   \n",
       "7192   December 8, 2016          2016  TV-MA    90 min   \n",
       "8470       June 7, 2019          2018  TV-MA    90 min   \n",
       "1685  November 17, 2020          2020  TV-PG    84 min   \n",
       "3321   November 2, 2019          2016  TV-PG    68 min   \n",
       "6379    October 1, 2018          2009      R   133 min   \n",
       "\n",
       "                                          listed_in  \\\n",
       "756   Dramas, International Movies, Romantic Movies   \n",
       "7692            Documentaries, International Movies   \n",
       "1037         Comedies, Dramas, International Movies   \n",
       "6524                        Docuseries, TV Comedies   \n",
       "6412                     Dramas, Independent Movies   \n",
       "7192                             Action & Adventure   \n",
       "8470                   Documentaries, Sports Movies   \n",
       "1685                   Dramas, International Movies   \n",
       "3321                       Children & Family Movies   \n",
       "6379                              Dramas, Thrillers   \n",
       "\n",
       "                                            description  \n",
       "756   When a business mogul hires an exotic dancer f...  \n",
       "7692  This documentary traces the steps of druglord ...  \n",
       "1037  To avoid the burden of commitment, a young law...  \n",
       "6524  Late-night talk show host Conan O'Brien hits t...  \n",
       "6412  Fresh Army recruit Amy Cole is assigned to Gua...  \n",
       "7192  After a skilled fighter falls in the ring, his...  \n",
       "8470  After a snowmobile accident paralyzed him, Gra...  \n",
       "1685  A sensitive Ainu teen searches for a spiritual...  \n",
       "3321  A trio of siblings gets trapped in a secret te...  \n",
       "6379  Three cops find themselves hurtling toward the...  "
      ]
     },
     "execution_count": 21,
     "metadata": {},
     "output_type": "execute_result"
    }
   ],
   "source": [
    "df.sample(10)"
   ]
  },
  {
   "cell_type": "code",
   "execution_count": 23,
   "id": "a911daf4-4c51-4878-903a-8d226dc6bfa7",
   "metadata": {},
   "outputs": [
    {
     "data": {
      "text/plain": [
       "(8807, 12)"
      ]
     },
     "execution_count": 23,
     "metadata": {},
     "output_type": "execute_result"
    }
   ],
   "source": [
    "df.shape"
   ]
  },
  {
   "cell_type": "code",
   "execution_count": 105,
   "id": "eb1352d0-9659-474d-8b17-f58c2b277c14",
   "metadata": {},
   "outputs": [
    {
     "data": {
      "text/plain": [
       "0         Movie\n",
       "1       TV Show\n",
       "2       TV Show\n",
       "3       TV Show\n",
       "4       TV Show\n",
       "         ...   \n",
       "8802      Movie\n",
       "8803    TV Show\n",
       "8804      Movie\n",
       "8805      Movie\n",
       "8806      Movie\n",
       "Name: type, Length: 8807, dtype: object"
      ]
     },
     "execution_count": 105,
     "metadata": {},
     "output_type": "execute_result"
    }
   ],
   "source": [
    "df.type"
   ]
  },
  {
   "cell_type": "code",
   "execution_count": 29,
   "id": "9b9b5f3b-002f-4f3e-aa1d-c458515f5593",
   "metadata": {},
   "outputs": [
    {
     "data": {
      "text/plain": [
       "Index(['show_id', 'type', 'title', 'director', 'cast', 'country', 'date_added',\n",
       "       'release_year', 'rating', 'duration', 'listed_in', 'description'],\n",
       "      dtype='object')"
      ]
     },
     "execution_count": 29,
     "metadata": {},
     "output_type": "execute_result"
    }
   ],
   "source": [
    "df.columns"
   ]
  },
  {
   "cell_type": "code",
   "execution_count": 39,
   "id": "310bb24d-4cfe-4d85-9f46-8b72e3586c2e",
   "metadata": {},
   "outputs": [
    {
     "name": "stdout",
     "output_type": "stream",
     "text": [
      "<class 'pandas.core.frame.DataFrame'>\n",
      "RangeIndex: 8807 entries, 0 to 8806\n",
      "Data columns (total 12 columns):\n",
      " #   Column        Non-Null Count  Dtype \n",
      "---  ------        --------------  ----- \n",
      " 0   show_id       8807 non-null   object\n",
      " 1   type          8807 non-null   object\n",
      " 2   title         8807 non-null   object\n",
      " 3   director      6173 non-null   object\n",
      " 4   cast          7982 non-null   object\n",
      " 5   country       7976 non-null   object\n",
      " 6   date_added    8797 non-null   object\n",
      " 7   release_year  8807 non-null   int64 \n",
      " 8   rating        8803 non-null   object\n",
      " 9   duration      8804 non-null   object\n",
      " 10  listed_in     8807 non-null   object\n",
      " 11  description   8807 non-null   object\n",
      "dtypes: int64(1), object(11)\n",
      "memory usage: 825.8+ KB\n"
     ]
    }
   ],
   "source": [
    "df.info()"
   ]
  },
  {
   "cell_type": "code",
   "execution_count": 41,
   "id": "c271fdbd-27a4-4857-b4e4-0dbf0dc19e1b",
   "metadata": {},
   "outputs": [
    {
     "data": {
      "text/html": [
       "<div>\n",
       "<style scoped>\n",
       "    .dataframe tbody tr th:only-of-type {\n",
       "        vertical-align: middle;\n",
       "    }\n",
       "\n",
       "    .dataframe tbody tr th {\n",
       "        vertical-align: top;\n",
       "    }\n",
       "\n",
       "    .dataframe thead th {\n",
       "        text-align: right;\n",
       "    }\n",
       "</style>\n",
       "<table border=\"1\" class=\"dataframe\">\n",
       "  <thead>\n",
       "    <tr style=\"text-align: right;\">\n",
       "      <th></th>\n",
       "      <th>release_year</th>\n",
       "    </tr>\n",
       "  </thead>\n",
       "  <tbody>\n",
       "    <tr>\n",
       "      <th>count</th>\n",
       "      <td>8807.000000</td>\n",
       "    </tr>\n",
       "    <tr>\n",
       "      <th>mean</th>\n",
       "      <td>2014.180198</td>\n",
       "    </tr>\n",
       "    <tr>\n",
       "      <th>std</th>\n",
       "      <td>8.819312</td>\n",
       "    </tr>\n",
       "    <tr>\n",
       "      <th>min</th>\n",
       "      <td>1925.000000</td>\n",
       "    </tr>\n",
       "    <tr>\n",
       "      <th>25%</th>\n",
       "      <td>2013.000000</td>\n",
       "    </tr>\n",
       "    <tr>\n",
       "      <th>50%</th>\n",
       "      <td>2017.000000</td>\n",
       "    </tr>\n",
       "    <tr>\n",
       "      <th>75%</th>\n",
       "      <td>2019.000000</td>\n",
       "    </tr>\n",
       "    <tr>\n",
       "      <th>max</th>\n",
       "      <td>2021.000000</td>\n",
       "    </tr>\n",
       "  </tbody>\n",
       "</table>\n",
       "</div>"
      ],
      "text/plain": [
       "       release_year\n",
       "count   8807.000000\n",
       "mean    2014.180198\n",
       "std        8.819312\n",
       "min     1925.000000\n",
       "25%     2013.000000\n",
       "50%     2017.000000\n",
       "75%     2019.000000\n",
       "max     2021.000000"
      ]
     },
     "execution_count": 41,
     "metadata": {},
     "output_type": "execute_result"
    }
   ],
   "source": [
    "df.describe()"
   ]
  },
  {
   "cell_type": "code",
   "execution_count": 45,
   "id": "269aedf3-45b1-463b-82cd-f37c3f86287e",
   "metadata": {},
   "outputs": [
    {
     "data": {
      "text/plain": [
       "show_id                                                        s2\n",
       "type                                                      TV Show\n",
       "title                                               Blood & Water\n",
       "director                                                      NaN\n",
       "cast            Ama Qamata, Khosi Ngema, Gail Mabalane, Thaban...\n",
       "country                                              South Africa\n",
       "date_added                                     September 24, 2021\n",
       "release_year                                                 2021\n",
       "rating                                                      TV-MA\n",
       "duration                                                2 Seasons\n",
       "listed_in         International TV Shows, TV Dramas, TV Mysteries\n",
       "description     After crossing paths at a party, a Cape Town t...\n",
       "Name: 1, dtype: object"
      ]
     },
     "execution_count": 45,
     "metadata": {},
     "output_type": "execute_result"
    }
   ],
   "source": [
    "df.loc[1]"
   ]
  },
  {
   "cell_type": "code",
   "execution_count": 48,
   "id": "91901a0b-c459-4c21-9a1a-f8168bf692ce",
   "metadata": {},
   "outputs": [
    {
     "data": {
      "text/plain": [
       "show_id                                                        s2\n",
       "type                                                      TV Show\n",
       "title                                               Blood & Water\n",
       "director                                                      NaN\n",
       "cast            Ama Qamata, Khosi Ngema, Gail Mabalane, Thaban...\n",
       "country                                              South Africa\n",
       "date_added                                     September 24, 2021\n",
       "release_year                                                 2021\n",
       "rating                                                      TV-MA\n",
       "duration                                                2 Seasons\n",
       "listed_in         International TV Shows, TV Dramas, TV Mysteries\n",
       "description     After crossing paths at a party, a Cape Town t...\n",
       "Name: 1, dtype: object"
      ]
     },
     "execution_count": 48,
     "metadata": {},
     "output_type": "execute_result"
    }
   ],
   "source": [
    "df.iloc[1]"
   ]
  },
  {
   "cell_type": "code",
   "execution_count": 103,
   "id": "6311cb4a-3b41-44e3-8acb-411d34a6d4e8",
   "metadata": {},
   "outputs": [
    {
     "data": {
      "text/plain": [
       "<bound method NDFrame.filter of      show_id     type                  title         director  \\\n",
       "0         s1    Movie   Dick Johnson Is Dead  Kirsten Johnson   \n",
       "1         s2  TV Show          Blood & Water              NaN   \n",
       "2         s3  TV Show              Ganglands  Julien Leclercq   \n",
       "3         s4  TV Show  Jailbirds New Orleans              NaN   \n",
       "4         s5  TV Show           Kota Factory              NaN   \n",
       "...      ...      ...                    ...              ...   \n",
       "8802   s8803    Movie                 Zodiac    David Fincher   \n",
       "8803   s8804  TV Show            Zombie Dumb              NaN   \n",
       "8804   s8805    Movie             Zombieland  Ruben Fleischer   \n",
       "8805   s8806    Movie                   Zoom     Peter Hewitt   \n",
       "8806   s8807    Movie                 Zubaan      Mozez Singh   \n",
       "\n",
       "                                                   cast        country  \\\n",
       "0                                                   NaN  United States   \n",
       "1     Ama Qamata, Khosi Ngema, Gail Mabalane, Thaban...   South Africa   \n",
       "2     Sami Bouajila, Tracy Gotoas, Samuel Jouy, Nabi...            NaN   \n",
       "3                                                   NaN            NaN   \n",
       "4     Mayur More, Jitendra Kumar, Ranjan Raj, Alam K...          India   \n",
       "...                                                 ...            ...   \n",
       "8802  Mark Ruffalo, Jake Gyllenhaal, Robert Downey J...  United States   \n",
       "8803                                                NaN            NaN   \n",
       "8804  Jesse Eisenberg, Woody Harrelson, Emma Stone, ...  United States   \n",
       "8805  Tim Allen, Courteney Cox, Chevy Chase, Kate Ma...  United States   \n",
       "8806  Vicky Kaushal, Sarah-Jane Dias, Raaghav Chanan...          India   \n",
       "\n",
       "              date_added  release_year rating   duration  \\\n",
       "0     September 25, 2021          2020  PG-13     90 min   \n",
       "1     September 24, 2021          2021  TV-MA  2 Seasons   \n",
       "2     September 24, 2021          2021  TV-MA   1 Season   \n",
       "3     September 24, 2021          2021  TV-MA   1 Season   \n",
       "4     September 24, 2021          2021  TV-MA  2 Seasons   \n",
       "...                  ...           ...    ...        ...   \n",
       "8802   November 20, 2019          2007      R    158 min   \n",
       "8803        July 1, 2019          2018  TV-Y7  2 Seasons   \n",
       "8804    November 1, 2019          2009      R     88 min   \n",
       "8805    January 11, 2020          2006     PG     88 min   \n",
       "8806       March 2, 2019          2015  TV-14    111 min   \n",
       "\n",
       "                                              listed_in  \\\n",
       "0                                         Documentaries   \n",
       "1       International TV Shows, TV Dramas, TV Mysteries   \n",
       "2     Crime TV Shows, International TV Shows, TV Act...   \n",
       "3                                Docuseries, Reality TV   \n",
       "4     International TV Shows, Romantic TV Shows, TV ...   \n",
       "...                                                 ...   \n",
       "8802                     Cult Movies, Dramas, Thrillers   \n",
       "8803             Kids' TV, Korean TV Shows, TV Comedies   \n",
       "8804                            Comedies, Horror Movies   \n",
       "8805                 Children & Family Movies, Comedies   \n",
       "8806     Dramas, International Movies, Music & Musicals   \n",
       "\n",
       "                                            description release_month  \n",
       "0     As her father nears the end of his life, filmm...       January  \n",
       "1     After crossing paths at a party, a Cape Town t...       January  \n",
       "2     To protect his family from a powerful drug lor...       January  \n",
       "3     Feuds, flirtations and toilet talk go down amo...       January  \n",
       "4     In a city of coaching centers known to train I...       January  \n",
       "...                                                 ...           ...  \n",
       "8802  A political cartoonist, a crime reporter and a...       January  \n",
       "8803  While living alone in a spooky town, a young g...       January  \n",
       "8804  Looking to survive in a world taken over by zo...       January  \n",
       "8805  Dragged from civilian life, a former superhero...       January  \n",
       "8806  A scrappy but poor boy worms his way into a ty...       January  \n",
       "\n",
       "[8807 rows x 13 columns]>"
      ]
     },
     "execution_count": 103,
     "metadata": {},
     "output_type": "execute_result"
    }
   ],
   "source": [
    "df.filter"
   ]
  },
  {
   "cell_type": "markdown",
   "id": "80653fa7-7642-4326-9485-4bb9252a3abf",
   "metadata": {},
   "source": [
    "# 2. What different types of show or movie are uploaded on Netflix?"
   ]
  },
  {
   "cell_type": "code",
   "execution_count": 55,
   "id": "08e76cc8-9f32-487c-b4b0-0f281f72a8ff",
   "metadata": {},
   "outputs": [
    {
     "name": "stdout",
     "output_type": "stream",
     "text": [
      "type\n",
      "Movie      6131\n",
      "TV Show    2676\n",
      "Name: count, dtype: int64\n"
     ]
    },
    {
     "data": {
      "image/png": "[encoded data removed]",
      "text/plain": [
       "<Figure size 640x480 with 1 Axes>"
      ]
     },
     "metadata": {},
     "output_type": "display_data"
    }
   ],
   "source": [
    "print(df['type'].value_counts())\n",
    "\n",
    "sns.countplot(x='type', data=df)\n",
    "plt.title('Distribution of Content Type')\n",
    "plt.show()"
   ]
  },
  {
   "cell_type": "markdown",
   "id": "248e6f69-adb2-4036-b1d4-e89e4875f982",
   "metadata": {},
   "source": [
    "# 3. What is the Correlation between the features?"
   ]
  },
  {
   "cell_type": "code",
   "execution_count": 58,
   "id": "8b583d7f-213d-42dc-a947-74d6cf6d01f7",
   "metadata": {},
   "outputs": [
    {
     "name": "stdout",
     "output_type": "stream",
     "text": [
      "              release_year\n",
      "release_year           1.0\n"
     ]
    },
    {
     "data": {
      "image/png": "[encoded data removed]",
      "text/plain": [
       "<Figure size 640x480 with 2 Axes>"
      ]
     },
     "metadata": {},
     "output_type": "display_data"
    }
   ],
   "source": [
    "numerical_df = df.select_dtypes(include=np.number)\n",
    "# Correlation matrix\n",
    "correlation_matrix = numerical_df.corr()\n",
    "# Correlation matrix\n",
    "print(correlation_matrix)\n",
    "\n",
    "# Correlation matrix as a heatmap\n",
    "sns.heatmap(correlation_matrix, annot=True, cmap='coolwarm')\n",
    "plt.title('Correlation Matrix')\n",
    "plt.show()"
   ]
  },
  {
   "cell_type": "markdown",
   "id": "998f6a8a-974c-4c52-98da-3519dbea4a0f",
   "metadata": {},
   "source": [
    "# 4. Most watched shows on the Netflix?"
   ]
  },
  {
   "cell_type": "code",
   "execution_count": 61,
   "id": "f728b2da-41c0-4ffa-a37c-e75378a609a0",
   "metadata": {},
   "outputs": [
    {
     "name": "stdout",
     "output_type": "stream",
     "text": [
      "title\n",
      "Dick Johnson Is Dead                1\n",
      "Ip Man 2                            1\n",
      "Hannibal Buress: Comedy Camisado    1\n",
      "Turbo FAST                          1\n",
      "Masha's Tales                       1\n",
      "Chelsea Does                        1\n",
      "Ricardo O'Farrill Abrazo Genial     1\n",
      "Ip Man                              1\n",
      "Tom Segura: Mostly Stories          1\n",
      "Team Foxcatcher                     1\n",
      "Name: count, dtype: int64\n"
     ]
    }
   ],
   "source": [
    "print(df['title'].value_counts().head(10))"
   ]
  },
  {
   "cell_type": "markdown",
   "id": "6ab30520-9c6e-454a-b139-ccf02bacd266",
   "metadata": {},
   "source": [
    "# 5. Distribution of Ratings?"
   ]
  },
  {
   "cell_type": "code",
   "execution_count": 64,
   "id": "8298532a-575e-4667-b4e4-01f3c89797e2",
   "metadata": {},
   "outputs": [
    {
     "name": "stdout",
     "output_type": "stream",
     "text": [
      "rating\n",
      "TV-MA       3207\n",
      "TV-14       2160\n",
      "TV-PG        863\n",
      "R            799\n",
      "PG-13        490\n",
      "TV-Y7        334\n",
      "TV-Y         307\n",
      "PG           287\n",
      "TV-G         220\n",
      "NR            80\n",
      "G             41\n",
      "TV-Y7-FV       6\n",
      "NC-17          3\n",
      "UR             3\n",
      "74 min         1\n",
      "84 min         1\n",
      "66 min         1\n",
      "Name: count, dtype: int64\n"
     ]
    },
    {
     "data": {
      "image/png": "[encoded data removed]",
      "text/plain": [
       "<Figure size 640x480 with 1 Axes>"
      ]
     },
     "metadata": {},
     "output_type": "display_data"
    }
   ],
   "source": [
    "print(df['rating'].value_counts())\n",
    "\n",
    "sns.countplot(x='rating', data=df)\n",
    "plt.title('Distribution of Ratings')\n",
    "plt.xticks(rotation=45)\n",
    "plt.show()"
   ]
  },
  {
   "cell_type": "markdown",
   "id": "8658727b-cfc7-4d11-8ab2-f89f95c3883d",
   "metadata": {},
   "source": [
    "# 6. Which has the highest rating Tv show or Movies?"
   ]
  },
  {
   "cell_type": "code",
   "execution_count": 67,
   "id": "067a99c8-f1a8-4700-8170-e93fbb373071",
   "metadata": {},
   "outputs": [
    {
     "name": "stdout",
     "output_type": "stream",
     "text": [
      "type     rating  \n",
      "Movie    TV-MA       2062\n",
      "         TV-14       1427\n",
      "         R            797\n",
      "         TV-PG        540\n",
      "         PG-13        490\n",
      "         PG           287\n",
      "         TV-Y7        139\n",
      "         TV-Y         131\n",
      "         TV-G         126\n",
      "         NR            75\n",
      "         G             41\n",
      "         TV-Y7-FV       5\n",
      "         NC-17          3\n",
      "         UR             3\n",
      "         66 min         1\n",
      "         74 min         1\n",
      "         84 min         1\n",
      "TV Show  TV-MA       1145\n",
      "         TV-14        733\n",
      "         TV-PG        323\n",
      "         TV-Y7        195\n",
      "         TV-Y         176\n",
      "         TV-G          94\n",
      "         NR             5\n",
      "         R              2\n",
      "         TV-Y7-FV       1\n",
      "Name: count, dtype: int64\n"
     ]
    }
   ],
   "source": [
    "highest_rating = df.groupby('type')['rating'].value_counts()\n",
    "print(highest_rating)"
   ]
  },
  {
   "cell_type": "markdown",
   "id": "1a9d518b-cd5f-4a94-8699-4f05b9b075aa",
   "metadata": {},
   "source": [
    "# 7. Finding the best Month for releasing content?"
   ]
  },
  {
   "cell_type": "code",
   "execution_count": 72,
   "id": "b43ec519-08c2-442a-9001-2dcf650ca0ab",
   "metadata": {},
   "outputs": [
    {
     "name": "stdout",
     "output_type": "stream",
     "text": [
      "release_month\n",
      "January    8807\n",
      "Name: count, dtype: int64\n"
     ]
    }
   ],
   "source": [
    "df['release_month'] = pd.to_datetime(df['release_year'], format='%Y').dt.month_name()\n",
    "\n",
    "month_counts = df['release_month'].value_counts()\n",
    "\n",
    "print(month_counts)"
   ]
  },
  {
   "cell_type": "markdown",
   "id": "84516f46-175d-409e-8bd1-692da2234898",
   "metadata": {},
   "source": [
    "# 8. Highest watched genres on Netflix?"
   ]
  },
  {
   "cell_type": "code",
   "execution_count": 75,
   "id": "b92cb949-b867-4978-b9b5-100bd37aca5b",
   "metadata": {},
   "outputs": [
    {
     "name": "stdout",
     "output_type": "stream",
     "text": [
      "International Movies        2752\n",
      "Dramas                      2427\n",
      "Comedies                    1674\n",
      "International TV Shows      1351\n",
      "Documentaries                869\n",
      "Action & Adventure           859\n",
      "TV Dramas                    763\n",
      "Independent Movies           756\n",
      "Children & Family Movies     641\n",
      "Romantic Movies              616\n",
      "Name: count, dtype: int64\n"
     ]
    }
   ],
   "source": [
    "genres = df['listed_in'].str.split(', ', expand=True).stack()\n",
    "\n",
    "genre_counts = genres.value_counts().head(10)\n",
    "\n",
    "print(genre_counts)"
   ]
  },
  {
   "cell_type": "markdown",
   "id": "9e43d069-7aad-49ad-9ee4-eb9c0c170982",
   "metadata": {},
   "source": [
    "# 9. Released movie over the years?"
   ]
  },
  {
   "cell_type": "code",
   "execution_count": 78,
   "id": "c920aa06-9e27-457d-ba8b-703d00c6d3cf",
   "metadata": {},
   "outputs": [
    {
     "name": "stdout",
     "output_type": "stream",
     "text": [
      "release_year\n",
      "1942      2\n",
      "1943      3\n",
      "1944      3\n",
      "1945      3\n",
      "1946      1\n",
      "       ... \n",
      "2017    767\n",
      "2018    767\n",
      "2019    633\n",
      "2020    517\n",
      "2021    277\n",
      "Name: count, Length: 73, dtype: int64\n"
     ]
    }
   ],
   "source": [
    "movies_per_year = df[df['type'] == 'Movie']['release_year'].value_counts().sort_index()\n",
    "print(movies_per_year)"
   ]
  },
  {
   "cell_type": "markdown",
   "id": "24226e39-3e82-449c-913b-bfd4f8b87784",
   "metadata": {},
   "source": [
    "# 10. movies made on year basis?"
   ]
  },
  {
   "cell_type": "code",
   "execution_count": 81,
   "id": "c6ed5f18-c065-4913-80a1-037377943206",
   "metadata": {},
   "outputs": [
    {
     "name": "stdout",
     "output_type": "stream",
     "text": [
      "release_year\n",
      "1925       1\n",
      "1942       2\n",
      "1943       3\n",
      "1944       3\n",
      "1945       4\n",
      "        ... \n",
      "2017    1032\n",
      "2018    1147\n",
      "2019    1030\n",
      "2020     953\n",
      "2021     592\n",
      "Name: count, Length: 74, dtype: int64\n"
     ]
    }
   ],
   "source": [
    "releases_per_year = df['release_year'].value_counts().sort_index()\n",
    "print(releases_per_year)"
   ]
  },
  {
   "cell_type": "markdown",
   "id": "b1840cf2-3b0f-421c-a798-f73fdd397927",
   "metadata": {},
   "source": [
    "# 11. What is the show id and director for 'House of cards'?"
   ]
  },
  {
   "cell_type": "code",
   "execution_count": 84,
   "id": "bdee2682-a4bf-4af8-8176-7392b3bb8b4f",
   "metadata": {},
   "outputs": [
    {
     "name": "stdout",
     "output_type": "stream",
     "text": [
      "     show_id director\n",
      "1059   s1060      NaN\n"
     ]
    }
   ],
   "source": [
    "house_of_cards = df[df['title'] == 'House of Cards']\n",
    "print(house_of_cards[['show_id', 'director']])"
   ]
  },
  {
   "cell_type": "markdown",
   "id": "998e4672-5334-4141-892f-1af7449cd4d7",
   "metadata": {},
   "source": [
    "# 12. Show all the movies that were released in year 2000."
   ]
  },
  {
   "cell_type": "code",
   "execution_count": 87,
   "id": "c3b449dc-fda8-46ad-9749-bba9c26be339",
   "metadata": {},
   "outputs": [
    {
     "name": "stdout",
     "output_type": "stream",
     "text": [
      "                                                  title  release_year\n",
      "180                  The Nutty Professor II: The Klumps          2000\n",
      "350                                       Space Cowboys          2000\n",
      "359                        The Original Kings of Comedy          2000\n",
      "566                                    Charlie's Angels          2000\n",
      "593                                            Snow Day          2000\n",
      "779                                   Battlefield Earth          2000\n",
      "952                                The Whole Nine Yards          2000\n",
      "3472                        Rugrats in Paris: The Movie          2000\n",
      "4545             Monty Python: Before the Flying Circus          2000\n",
      "4723                                               Fiza          2000\n",
      "4956                        Phir Bhi Dil Hai Hindustani          2000\n",
      "5953                             Joseph: King of Dreams          2000\n",
      "6006                                            28 Days          2000\n",
      "6147                                    American Psycho          2000\n",
      "6154  An American Tail: The Treasures of Manhattan I...          2000\n",
      "6311                                       Billy Elliot          2000\n",
      "6437                                       Center Stage          2000\n",
      "6440                                     Chal Mere Bhai          2000\n",
      "6543                     Crouching Tiger, Hidden Dragon          2000\n",
      "6643                       Dragonheart: A New Beginning          2000\n",
      "6753                                  Final Destination          2000\n",
      "6912                          Hamara Dil Aapke Paas Hai          2000\n",
      "7013                     How the Grinch Stole Christmas          2000\n",
      "7247                                          Kya Kehna          2000\n",
      "7316                                       Little Nicky          2000\n",
      "7702                                     Papa the Great          2000\n",
      "7801                                              Pukar          2000\n",
      "7955                                        Scary Movie          2000\n",
      "7962                                           Scream 3          2000\n",
      "8196                                     The Art of War          2000\n",
      "8305                 The Flintstones in Viva Rock Vegas          2000\n",
      "8722                                  What Lies Beneath          2000\n",
      "8729                                 Where the Money Is          2000\n"
     ]
    }
   ],
   "source": [
    "movies_2000 = df[(df['type'] == 'Movie') & (df['release_year'] == 2000)]\n",
    "print(movies_2000[['title', 'release_year']])"
   ]
  },
  {
   "cell_type": "markdown",
   "id": "a0a77ef8-b207-44a1-8642-cfccfdee35d8",
   "metadata": {},
   "source": [
    "# 13. Show only the title of all TV shows that were released in India only."
   ]
  },
  {
   "cell_type": "code",
   "execution_count": 90,
   "id": "007386c9-8a2c-4b49-8117-489131f86927",
   "metadata": {},
   "outputs": [
    {
     "name": "stdout",
     "output_type": "stream",
     "text": [
      "4                             Kota Factory\n",
      "39                            Chhota Bheem\n",
      "50                           Dharmakshetra\n",
      "66           Raja Rasoi Aur Anya Kahaniyan\n",
      "69          Stories by Rabindranath Tagore\n",
      "                       ...                \n",
      "8173                             Thackeray\n",
      "8235                           The Calling\n",
      "8321    The Golden Years with Javed Akhtar\n",
      "8349                The House That Made Me\n",
      "8775                       Yeh Meri Family\n",
      "Name: title, Length: 79, dtype: object\n"
     ]
    }
   ],
   "source": [
    "tv_shows_india = df[(df['type'] == 'TV Show') & (df['country'] == 'India')]\n",
    "print(tv_shows_india['title'])"
   ]
  },
  {
   "cell_type": "markdown",
   "id": "c99750af-d6e9-4699-8582-3fddaf198cc0",
   "metadata": {},
   "source": [
    "# 14. Show top 10 director, who gave the highest number of TV shows & Movies to Netflix?"
   ]
  },
  {
   "cell_type": "code",
   "execution_count": 93,
   "id": "43cf6634-c1fa-45b9-9495-e2491eeed5ac",
   "metadata": {},
   "outputs": [
    {
     "name": "stdout",
     "output_type": "stream",
     "text": [
      "director\n",
      "Rajiv Chilaka             19\n",
      "Raúl Campos, Jan Suter    18\n",
      "Marcus Raboy              16\n",
      "Suhas Kadav               16\n",
      "Jay Karas                 14\n",
      "Cathy Garcia-Molina       13\n",
      "Martin Scorsese           12\n",
      "Youssef Chahine           12\n",
      "Jay Chapman               12\n",
      "Steven Spielberg          11\n",
      "Name: count, dtype: int64\n"
     ]
    }
   ],
   "source": [
    "top_directors = df['director'].value_counts().head(10)\n",
    "print(top_directors)"
   ]
  },
  {
   "cell_type": "markdown",
   "id": "9fd56e95-5345-4e1f-b68d-e4e6743a5a0e",
   "metadata": {},
   "source": [
    "# 15. In how many movies/ tv shows, 'tom Cruise' was cast?"
   ]
  },
  {
   "cell_type": "code",
   "execution_count": 96,
   "id": "7405d9a8-e43c-4f05-a5d1-33c67ef2d165",
   "metadata": {},
   "outputs": [
    {
     "name": "stdout",
     "output_type": "stream",
     "text": [
      "Tom Cruise was cast in 2 movies/TV shows\n"
     ]
    }
   ],
   "source": [
    "tom_cruise_count = df['cast'].str.contains('Tom Cruise', na=False).sum()\n",
    "print(f\"Tom Cruise was cast in {tom_cruise_count} movies/TV shows\")"
   ]
  },
  {
   "cell_type": "markdown",
   "id": "85bff055-d7cd-4b69-8d4f-1ef96036e5d3",
   "metadata": {},
   "source": [
    "# 16. How many movies got the \"TV-14\" rating in the caneda?"
   ]
  },
  {
   "cell_type": "code",
   "execution_count": 99,
   "id": "3b718757-e467-4ba0-8cbc-39fff4857b01",
   "metadata": {},
   "outputs": [
    {
     "name": "stdout",
     "output_type": "stream",
     "text": [
      "26 movies got the 'TV-14' rating in Canada\n"
     ]
    }
   ],
   "source": [
    "tv_14_canada_count = df[(df['rating'] == 'TV-14') & (df['country'] == 'Canada')].shape[0]\n",
    "print(f\"{tv_14_canada_count} movies got the 'TV-14' rating in Canada\")"
   ]
  },
  {
   "cell_type": "code",
   "execution_count": null,
   "id": "6bb8c7c3-ea56-47d6-9975-818affe9dd8b",
   "metadata": {},
   "outputs": [],
   "source": []
  }
 ],
 "metadata": {
  "kernelspec": {
   "display_name": "Python [conda env:base] *",
   "language": "python",
   "name": "conda-base-py"
  },
  "language_info": {
   "codemirror_mode": {
    "name": "ipython",
    "version": 3
   },
   "file_extension": ".py",
   "mimetype": "text/x-python",
   "name": "python",
   "nbconvert_exporter": "python",
   "pygments_lexer": "ipython3",
   "version": "3.12.7"
  }
 },
 "nbformat": 4,
 "nbformat_minor": 5
}
